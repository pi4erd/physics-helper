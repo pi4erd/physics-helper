{
 "cells": [
  {
   "cell_type": "code",
   "execution_count": null,
   "id": "a8e0e81f",
   "metadata": {},
   "outputs": [],
   "source": [
    "import matplotlib.pyplot as plt\n",
    "import numpy as np\n",
    "import json"
   ]
  },
  {
   "cell_type": "code",
   "execution_count": null,
   "id": "24ad9072",
   "metadata": {},
   "outputs": [],
   "source": [
    "with open(\"stats.json\", \"r\") as f:\n",
    "    data = json.loads(f.read())"
   ]
  },
  {
   "cell_type": "code",
   "execution_count": null,
   "id": "008e9cb2",
   "metadata": {},
   "outputs": [],
   "source": [
    "[r['data']['Earth_position'] for r in data]"
   ]
  },
  {
   "cell_type": "code",
   "execution_count": null,
   "id": "fb922b00",
   "metadata": {},
   "outputs": [],
   "source": [
    "x =  [d['time'] for d in data]\n",
    "y1 = [d['data']['kinetic_energy']['value'] for d in data]\n",
    "y2 = [d['data']['potential_energy']['value'] for d in data]\n",
    "y3 = [k + p for (k, p) in zip(y1, y2)]\n",
    "\n",
    "approx_total = np.polyfit(x, y3, 1)\n",
    "p = np.poly1d(approx_total)"
   ]
  },
  {
   "cell_type": "code",
   "execution_count": null,
   "id": "42dcf7cf",
   "metadata": {},
   "outputs": [],
   "source": [
    "plt.xlabel(\"time\")\n",
    "plt.ylabel(\"energy\")\n",
    "plt.plot(x, y1, label=\"kinetic_energy\")\n",
    "plt.plot(x, y2, label=\"potential_energy_approx\")\n",
    "plt.plot(x, y3, label=\"total_energy\")\n",
    "plt.plot(x, p(x), label=\"total_energy_trend\")\n",
    "plt.legend()"
   ]
  },
  {
   "cell_type": "markdown",
   "id": "e397e6ff",
   "metadata": {},
   "source": [
    "As we can see, the trend is basically constant, proving the conservation of energy!"
   ]
  }
 ],
 "metadata": {
  "kernelspec": {
   "display_name": ".venv",
   "language": "python",
   "name": "python3"
  },
  "language_info": {
   "codemirror_mode": {
    "name": "ipython",
    "version": 3
   },
   "file_extension": ".py",
   "mimetype": "text/x-python",
   "name": "python",
   "nbconvert_exporter": "python",
   "pygments_lexer": "ipython3",
   "version": "3.12.9"
  }
 },
 "nbformat": 4,
 "nbformat_minor": 5
}
